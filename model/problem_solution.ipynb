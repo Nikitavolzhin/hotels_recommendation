{
 "cells": [
  {
   "cell_type": "code",
   "execution_count": 149,
   "id": "a1c9f7e5",
   "metadata": {},
   "outputs": [],
   "source": [
    "import pandas as pd\n",
    "import numpy as np\n",
    "import joblib\n",
    "import pickle\n",
    "\n",
    "dataset = pd.read_csv('Accommodation_Reviews.csv')\n",
    "\n",
    "X_good = dataset.Positive_Review.values\n",
    "X_bad = dataset.Negative_Review.values\n",
    "\n",
    "y = dataset.Hotel_Name.values"
   ]
  },
  {
   "cell_type": "code",
   "execution_count": 150,
   "id": "427f8c23",
   "metadata": {},
   "outputs": [
    {
     "name": "stderr",
     "output_type": "stream",
     "text": [
      "C:\\Users\\Nikita\\anaconda3\\lib\\site-packages\\sklearn\\model_selection\\_split.py:680: UserWarning: The least populated class in y has only 8 members, which is less than n_splits=40.\n",
      "  warnings.warn(\n"
     ]
    }
   ],
   "source": [
    "#Some model will not be able to work with such a large dataset, so I split it into small batches,\n",
    "#moreover, some model support batch learning so the split will be useful\n",
    "from sklearn.model_selection import StratifiedKFold\n",
    "skf = StratifiedKFold(n_splits=40)\n",
    "\n",
    "X_good_ = list()\n",
    "X_bad_ = list()\n",
    "y_ = list()\n",
    "\n",
    "for train_index, test_index in skf.split(X_good, y):\n",
    "    X_good_.append(X_good[test_index])\n",
    "    X_bad_.append(X_bad[test_index])\n",
    "    y_.append(y[test_index])"
   ]
  },
  {
   "cell_type": "code",
   "execution_count": null,
   "id": "93c5ad4c-45a6-4e57-bf0a-ec9fa10acc90",
   "metadata": {},
   "outputs": [],
   "source": [
    "#The next functions are the same as in study_dataset file "
   ]
  },
  {
   "cell_type": "code",
   "execution_count": 3,
   "id": "9e007a55",
   "metadata": {},
   "outputs": [],
   "source": [
    "import nltk\n",
    "from nltk.corpus import stopwords\n",
    "from nltk.stem.porter import PorterStemmer\n",
    "from sklearn.feature_extraction.text import CountVectorizer\n",
    "def embedding(X):\n",
    "    X = X.tolist()\n",
    "    X = [x.lower() for x in X]\n",
    "    corpus = []\n",
    "    nltk.download('stopwords')\n",
    "    all_stopwords = stopwords.words('english')\n",
    "    all_stopwords.remove('not')\n",
    "    for i in range(0, len(X)):\n",
    "        review = X[i]\n",
    "        review = review.split()\n",
    "        ps = PorterStemmer()\n",
    "        review = [ps.stem(word) for word in review if not word in set(all_stopwords)]\n",
    "        review = ' '.join(review)\n",
    "        corpus.append(review)\n",
    "    cv = CountVectorizer(max_features = 1500)\n",
    "    cv.fit(corpus)\n",
    "    return cv"
   ]
  },
  {
   "cell_type": "code",
   "execution_count": 12,
   "id": "0a4bdf33",
   "metadata": {},
   "outputs": [],
   "source": [
    "def recom_score(predictor, X_test, y_test):\n",
    "    X_test = X_test\n",
    "    y_test = y_test\n",
    "    success = 0\n",
    "    for i in range(len(y_test)):\n",
    "        y_pred = predictor.predict_proba([X_test[i]])\n",
    "        y_pred_sorted = np.argsort(y_pred)\n",
    "        top_100 = predictor.classes_[y_pred_sorted][0][-100:]\n",
    "        if (y_test[i] in top_100):\n",
    "            success+=1\n",
    "    return success/len(y_test)"
   ]
  },
  {
   "cell_type": "code",
   "execution_count": 5,
   "id": "6ef401d4",
   "metadata": {},
   "outputs": [
    {
     "name": "stderr",
     "output_type": "stream",
     "text": [
      "[nltk_data] Downloading package stopwords to\n",
      "[nltk_data]     C:\\Users\\Nikita\\AppData\\Roaming\\nltk_data...\n",
      "[nltk_data]   Package stopwords is already up-to-date!\n"
     ]
    }
   ],
   "source": [
    "vectorizer = embedding(X_good_[0])\n",
    "X_good_vect = vectorizer.transform(X_good_[0]).toarray()"
   ]
  },
  {
   "cell_type": "code",
   "execution_count": 6,
   "id": "07ba651e",
   "metadata": {},
   "outputs": [
    {
     "data": {
      "text/html": [
       "<style>#sk-container-id-1 {color: black;background-color: white;}#sk-container-id-1 pre{padding: 0;}#sk-container-id-1 div.sk-toggleable {background-color: white;}#sk-container-id-1 label.sk-toggleable__label {cursor: pointer;display: block;width: 100%;margin-bottom: 0;padding: 0.3em;box-sizing: border-box;text-align: center;}#sk-container-id-1 label.sk-toggleable__label-arrow:before {content: \"▸\";float: left;margin-right: 0.25em;color: #696969;}#sk-container-id-1 label.sk-toggleable__label-arrow:hover:before {color: black;}#sk-container-id-1 div.sk-estimator:hover label.sk-toggleable__label-arrow:before {color: black;}#sk-container-id-1 div.sk-toggleable__content {max-height: 0;max-width: 0;overflow: hidden;text-align: left;background-color: #f0f8ff;}#sk-container-id-1 div.sk-toggleable__content pre {margin: 0.2em;color: black;border-radius: 0.25em;background-color: #f0f8ff;}#sk-container-id-1 input.sk-toggleable__control:checked~div.sk-toggleable__content {max-height: 200px;max-width: 100%;overflow: auto;}#sk-container-id-1 input.sk-toggleable__control:checked~label.sk-toggleable__label-arrow:before {content: \"▾\";}#sk-container-id-1 div.sk-estimator input.sk-toggleable__control:checked~label.sk-toggleable__label {background-color: #d4ebff;}#sk-container-id-1 div.sk-label input.sk-toggleable__control:checked~label.sk-toggleable__label {background-color: #d4ebff;}#sk-container-id-1 input.sk-hidden--visually {border: 0;clip: rect(1px 1px 1px 1px);clip: rect(1px, 1px, 1px, 1px);height: 1px;margin: -1px;overflow: hidden;padding: 0;position: absolute;width: 1px;}#sk-container-id-1 div.sk-estimator {font-family: monospace;background-color: #f0f8ff;border: 1px dotted black;border-radius: 0.25em;box-sizing: border-box;margin-bottom: 0.5em;}#sk-container-id-1 div.sk-estimator:hover {background-color: #d4ebff;}#sk-container-id-1 div.sk-parallel-item::after {content: \"\";width: 100%;border-bottom: 1px solid gray;flex-grow: 1;}#sk-container-id-1 div.sk-label:hover label.sk-toggleable__label {background-color: #d4ebff;}#sk-container-id-1 div.sk-serial::before {content: \"\";position: absolute;border-left: 1px solid gray;box-sizing: border-box;top: 0;bottom: 0;left: 50%;z-index: 0;}#sk-container-id-1 div.sk-serial {display: flex;flex-direction: column;align-items: center;background-color: white;padding-right: 0.2em;padding-left: 0.2em;position: relative;}#sk-container-id-1 div.sk-item {position: relative;z-index: 1;}#sk-container-id-1 div.sk-parallel {display: flex;align-items: stretch;justify-content: center;background-color: white;position: relative;}#sk-container-id-1 div.sk-item::before, #sk-container-id-1 div.sk-parallel-item::before {content: \"\";position: absolute;border-left: 1px solid gray;box-sizing: border-box;top: 0;bottom: 0;left: 50%;z-index: -1;}#sk-container-id-1 div.sk-parallel-item {display: flex;flex-direction: column;z-index: 1;position: relative;background-color: white;}#sk-container-id-1 div.sk-parallel-item:first-child::after {align-self: flex-end;width: 50%;}#sk-container-id-1 div.sk-parallel-item:last-child::after {align-self: flex-start;width: 50%;}#sk-container-id-1 div.sk-parallel-item:only-child::after {width: 0;}#sk-container-id-1 div.sk-dashed-wrapped {border: 1px dashed gray;margin: 0 0.4em 0.5em 0.4em;box-sizing: border-box;padding-bottom: 0.4em;background-color: white;}#sk-container-id-1 div.sk-label label {font-family: monospace;font-weight: bold;display: inline-block;line-height: 1.2em;}#sk-container-id-1 div.sk-label-container {text-align: center;}#sk-container-id-1 div.sk-container {/* jupyter's `normalize.less` sets `[hidden] { display: none; }` but bootstrap.min.css set `[hidden] { display: none !important; }` so we also need the `!important` here to be able to override the default hidden behavior on the sphinx rendered scikit-learn.org. See: https://github.com/scikit-learn/scikit-learn/issues/21755 */display: inline-block !important;position: relative;}#sk-container-id-1 div.sk-text-repr-fallback {display: none;}</style><div id=\"sk-container-id-1\" class=\"sk-top-container\"><div class=\"sk-text-repr-fallback\"><pre>GaussianNB()</pre><b>In a Jupyter environment, please rerun this cell to show the HTML representation or trust the notebook. <br />On GitHub, the HTML representation is unable to render, please try loading this page with nbviewer.org.</b></div><div class=\"sk-container\" hidden><div class=\"sk-item\"><div class=\"sk-estimator sk-toggleable\"><input class=\"sk-toggleable__control sk-hidden--visually\" id=\"sk-estimator-id-1\" type=\"checkbox\" checked><label for=\"sk-estimator-id-1\" class=\"sk-toggleable__label sk-toggleable__label-arrow\">GaussianNB</label><div class=\"sk-toggleable__content\"><pre>GaussianNB()</pre></div></div></div></div></div>"
      ],
      "text/plain": [
       "GaussianNB()"
      ]
     },
     "execution_count": 6,
     "metadata": {},
     "output_type": "execute_result"
    }
   ],
   "source": [
    "#I want to select models which can give me multiple probable hotels in descending probability order\n",
    "# Hence I need a probabilistic model, so selecting among naive bayes, Random Forest, and Logistics Regression\n",
    "from sklearn.naive_bayes import GaussianNB\n",
    "gaus = GaussianNB()\n",
    "gaus.fit(X_good_vect, y_[0])"
   ]
  },
  {
   "cell_type": "code",
   "execution_count": 16,
   "id": "0b62574e",
   "metadata": {},
   "outputs": [
    {
     "data": {
      "text/plain": [
       "0.122"
      ]
     },
     "execution_count": 16,
     "metadata": {},
     "output_type": "execute_result"
    }
   ],
   "source": [
    "recom_score(gaus, vectorizer.transform(X_good_[1][:1000]).toarray(), y_[1][:1000])"
   ]
  },
  {
   "cell_type": "code",
   "execution_count": 10,
   "id": "6b4f6c1e",
   "metadata": {},
   "outputs": [
    {
     "data": {
      "text/html": [
       "<style>#sk-container-id-3 {color: black;background-color: white;}#sk-container-id-3 pre{padding: 0;}#sk-container-id-3 div.sk-toggleable {background-color: white;}#sk-container-id-3 label.sk-toggleable__label {cursor: pointer;display: block;width: 100%;margin-bottom: 0;padding: 0.3em;box-sizing: border-box;text-align: center;}#sk-container-id-3 label.sk-toggleable__label-arrow:before {content: \"▸\";float: left;margin-right: 0.25em;color: #696969;}#sk-container-id-3 label.sk-toggleable__label-arrow:hover:before {color: black;}#sk-container-id-3 div.sk-estimator:hover label.sk-toggleable__label-arrow:before {color: black;}#sk-container-id-3 div.sk-toggleable__content {max-height: 0;max-width: 0;overflow: hidden;text-align: left;background-color: #f0f8ff;}#sk-container-id-3 div.sk-toggleable__content pre {margin: 0.2em;color: black;border-radius: 0.25em;background-color: #f0f8ff;}#sk-container-id-3 input.sk-toggleable__control:checked~div.sk-toggleable__content {max-height: 200px;max-width: 100%;overflow: auto;}#sk-container-id-3 input.sk-toggleable__control:checked~label.sk-toggleable__label-arrow:before {content: \"▾\";}#sk-container-id-3 div.sk-estimator input.sk-toggleable__control:checked~label.sk-toggleable__label {background-color: #d4ebff;}#sk-container-id-3 div.sk-label input.sk-toggleable__control:checked~label.sk-toggleable__label {background-color: #d4ebff;}#sk-container-id-3 input.sk-hidden--visually {border: 0;clip: rect(1px 1px 1px 1px);clip: rect(1px, 1px, 1px, 1px);height: 1px;margin: -1px;overflow: hidden;padding: 0;position: absolute;width: 1px;}#sk-container-id-3 div.sk-estimator {font-family: monospace;background-color: #f0f8ff;border: 1px dotted black;border-radius: 0.25em;box-sizing: border-box;margin-bottom: 0.5em;}#sk-container-id-3 div.sk-estimator:hover {background-color: #d4ebff;}#sk-container-id-3 div.sk-parallel-item::after {content: \"\";width: 100%;border-bottom: 1px solid gray;flex-grow: 1;}#sk-container-id-3 div.sk-label:hover label.sk-toggleable__label {background-color: #d4ebff;}#sk-container-id-3 div.sk-serial::before {content: \"\";position: absolute;border-left: 1px solid gray;box-sizing: border-box;top: 0;bottom: 0;left: 50%;z-index: 0;}#sk-container-id-3 div.sk-serial {display: flex;flex-direction: column;align-items: center;background-color: white;padding-right: 0.2em;padding-left: 0.2em;position: relative;}#sk-container-id-3 div.sk-item {position: relative;z-index: 1;}#sk-container-id-3 div.sk-parallel {display: flex;align-items: stretch;justify-content: center;background-color: white;position: relative;}#sk-container-id-3 div.sk-item::before, #sk-container-id-3 div.sk-parallel-item::before {content: \"\";position: absolute;border-left: 1px solid gray;box-sizing: border-box;top: 0;bottom: 0;left: 50%;z-index: -1;}#sk-container-id-3 div.sk-parallel-item {display: flex;flex-direction: column;z-index: 1;position: relative;background-color: white;}#sk-container-id-3 div.sk-parallel-item:first-child::after {align-self: flex-end;width: 50%;}#sk-container-id-3 div.sk-parallel-item:last-child::after {align-self: flex-start;width: 50%;}#sk-container-id-3 div.sk-parallel-item:only-child::after {width: 0;}#sk-container-id-3 div.sk-dashed-wrapped {border: 1px dashed gray;margin: 0 0.4em 0.5em 0.4em;box-sizing: border-box;padding-bottom: 0.4em;background-color: white;}#sk-container-id-3 div.sk-label label {font-family: monospace;font-weight: bold;display: inline-block;line-height: 1.2em;}#sk-container-id-3 div.sk-label-container {text-align: center;}#sk-container-id-3 div.sk-container {/* jupyter's `normalize.less` sets `[hidden] { display: none; }` but bootstrap.min.css set `[hidden] { display: none !important; }` so we also need the `!important` here to be able to override the default hidden behavior on the sphinx rendered scikit-learn.org. See: https://github.com/scikit-learn/scikit-learn/issues/21755 */display: inline-block !important;position: relative;}#sk-container-id-3 div.sk-text-repr-fallback {display: none;}</style><div id=\"sk-container-id-3\" class=\"sk-top-container\"><div class=\"sk-text-repr-fallback\"><pre>RandomForestClassifier(max_depth=10)</pre><b>In a Jupyter environment, please rerun this cell to show the HTML representation or trust the notebook. <br />On GitHub, the HTML representation is unable to render, please try loading this page with nbviewer.org.</b></div><div class=\"sk-container\" hidden><div class=\"sk-item\"><div class=\"sk-estimator sk-toggleable\"><input class=\"sk-toggleable__control sk-hidden--visually\" id=\"sk-estimator-id-3\" type=\"checkbox\" checked><label for=\"sk-estimator-id-3\" class=\"sk-toggleable__label sk-toggleable__label-arrow\">RandomForestClassifier</label><div class=\"sk-toggleable__content\"><pre>RandomForestClassifier(max_depth=10)</pre></div></div></div></div></div>"
      ],
      "text/plain": [
       "RandomForestClassifier(max_depth=10)"
      ]
     },
     "execution_count": 10,
     "metadata": {},
     "output_type": "execute_result"
    }
   ],
   "source": [
    "from sklearn.ensemble import RandomForestClassifier\n",
    "forest = RandomForestClassifier(n_estimators = 100, max_depth = 10)\n",
    "forest.fit(X_good_vect, y_[0])"
   ]
  },
  {
   "cell_type": "code",
   "execution_count": 14,
   "id": "e5845ec3",
   "metadata": {},
   "outputs": [
    {
     "data": {
      "text/plain": [
       "0.38583837443772295"
      ]
     },
     "execution_count": 14,
     "metadata": {},
     "output_type": "execute_result"
    }
   ],
   "source": [
    "recom_score(forest, vectorizer.transform(X_good_[1]).toarray(), y_[1])"
   ]
  },
  {
   "cell_type": "code",
   "execution_count": 8,
   "id": "0b220943",
   "metadata": {},
   "outputs": [
    {
     "data": {
      "text/html": [
       "<style>#sk-container-id-2 {color: black;background-color: white;}#sk-container-id-2 pre{padding: 0;}#sk-container-id-2 div.sk-toggleable {background-color: white;}#sk-container-id-2 label.sk-toggleable__label {cursor: pointer;display: block;width: 100%;margin-bottom: 0;padding: 0.3em;box-sizing: border-box;text-align: center;}#sk-container-id-2 label.sk-toggleable__label-arrow:before {content: \"▸\";float: left;margin-right: 0.25em;color: #696969;}#sk-container-id-2 label.sk-toggleable__label-arrow:hover:before {color: black;}#sk-container-id-2 div.sk-estimator:hover label.sk-toggleable__label-arrow:before {color: black;}#sk-container-id-2 div.sk-toggleable__content {max-height: 0;max-width: 0;overflow: hidden;text-align: left;background-color: #f0f8ff;}#sk-container-id-2 div.sk-toggleable__content pre {margin: 0.2em;color: black;border-radius: 0.25em;background-color: #f0f8ff;}#sk-container-id-2 input.sk-toggleable__control:checked~div.sk-toggleable__content {max-height: 200px;max-width: 100%;overflow: auto;}#sk-container-id-2 input.sk-toggleable__control:checked~label.sk-toggleable__label-arrow:before {content: \"▾\";}#sk-container-id-2 div.sk-estimator input.sk-toggleable__control:checked~label.sk-toggleable__label {background-color: #d4ebff;}#sk-container-id-2 div.sk-label input.sk-toggleable__control:checked~label.sk-toggleable__label {background-color: #d4ebff;}#sk-container-id-2 input.sk-hidden--visually {border: 0;clip: rect(1px 1px 1px 1px);clip: rect(1px, 1px, 1px, 1px);height: 1px;margin: -1px;overflow: hidden;padding: 0;position: absolute;width: 1px;}#sk-container-id-2 div.sk-estimator {font-family: monospace;background-color: #f0f8ff;border: 1px dotted black;border-radius: 0.25em;box-sizing: border-box;margin-bottom: 0.5em;}#sk-container-id-2 div.sk-estimator:hover {background-color: #d4ebff;}#sk-container-id-2 div.sk-parallel-item::after {content: \"\";width: 100%;border-bottom: 1px solid gray;flex-grow: 1;}#sk-container-id-2 div.sk-label:hover label.sk-toggleable__label {background-color: #d4ebff;}#sk-container-id-2 div.sk-serial::before {content: \"\";position: absolute;border-left: 1px solid gray;box-sizing: border-box;top: 0;bottom: 0;left: 50%;z-index: 0;}#sk-container-id-2 div.sk-serial {display: flex;flex-direction: column;align-items: center;background-color: white;padding-right: 0.2em;padding-left: 0.2em;position: relative;}#sk-container-id-2 div.sk-item {position: relative;z-index: 1;}#sk-container-id-2 div.sk-parallel {display: flex;align-items: stretch;justify-content: center;background-color: white;position: relative;}#sk-container-id-2 div.sk-item::before, #sk-container-id-2 div.sk-parallel-item::before {content: \"\";position: absolute;border-left: 1px solid gray;box-sizing: border-box;top: 0;bottom: 0;left: 50%;z-index: -1;}#sk-container-id-2 div.sk-parallel-item {display: flex;flex-direction: column;z-index: 1;position: relative;background-color: white;}#sk-container-id-2 div.sk-parallel-item:first-child::after {align-self: flex-end;width: 50%;}#sk-container-id-2 div.sk-parallel-item:last-child::after {align-self: flex-start;width: 50%;}#sk-container-id-2 div.sk-parallel-item:only-child::after {width: 0;}#sk-container-id-2 div.sk-dashed-wrapped {border: 1px dashed gray;margin: 0 0.4em 0.5em 0.4em;box-sizing: border-box;padding-bottom: 0.4em;background-color: white;}#sk-container-id-2 div.sk-label label {font-family: monospace;font-weight: bold;display: inline-block;line-height: 1.2em;}#sk-container-id-2 div.sk-label-container {text-align: center;}#sk-container-id-2 div.sk-container {/* jupyter's `normalize.less` sets `[hidden] { display: none; }` but bootstrap.min.css set `[hidden] { display: none !important; }` so we also need the `!important` here to be able to override the default hidden behavior on the sphinx rendered scikit-learn.org. See: https://github.com/scikit-learn/scikit-learn/issues/21755 */display: inline-block !important;position: relative;}#sk-container-id-2 div.sk-text-repr-fallback {display: none;}</style><div id=\"sk-container-id-2\" class=\"sk-top-container\"><div class=\"sk-text-repr-fallback\"><pre>SGDClassifier(loss=&#x27;log_loss&#x27;, n_jobs=-1)</pre><b>In a Jupyter environment, please rerun this cell to show the HTML representation or trust the notebook. <br />On GitHub, the HTML representation is unable to render, please try loading this page with nbviewer.org.</b></div><div class=\"sk-container\" hidden><div class=\"sk-item\"><div class=\"sk-estimator sk-toggleable\"><input class=\"sk-toggleable__control sk-hidden--visually\" id=\"sk-estimator-id-2\" type=\"checkbox\" checked><label for=\"sk-estimator-id-2\" class=\"sk-toggleable__label sk-toggleable__label-arrow\">SGDClassifier</label><div class=\"sk-toggleable__content\"><pre>SGDClassifier(loss=&#x27;log_loss&#x27;, n_jobs=-1)</pre></div></div></div></div></div>"
      ],
      "text/plain": [
       "SGDClassifier(loss='log_loss', n_jobs=-1)"
      ]
     },
     "execution_count": 8,
     "metadata": {},
     "output_type": "execute_result"
    }
   ],
   "source": [
    "from sklearn.linear_model import SGDClassifier\n",
    "sgd = SGDClassifier(loss = \"log_loss\", n_jobs = -1)\n",
    "sgd.fit(X_good_vect, y_[0])"
   ]
  },
  {
   "cell_type": "code",
   "execution_count": 13,
   "id": "cbbc87d0",
   "metadata": {},
   "outputs": [
    {
     "data": {
      "text/plain": [
       "0.4019699084845665"
      ]
     },
     "execution_count": 13,
     "metadata": {},
     "output_type": "execute_result"
    }
   ],
   "source": [
    "recom_score(sgd, vectorizer.transform(X_good_[1]).toarray(), y_[1])"
   ]
  },
  {
   "cell_type": "code",
   "execution_count": null,
   "id": "bbfe59ca",
   "metadata": {},
   "outputs": [],
   "source": [
    "#SGDClassifier performed as the best probabilistic model. That is handy, because it also supports batch learning\n",
    "#thus, I can improve the result"
   ]
  },
  {
   "cell_type": "code",
   "execution_count": null,
   "id": "2f362cad-cc9d-492c-8082-920de3c6aee7",
   "metadata": {},
   "outputs": [],
   "source": [
    "#Same tesing but for negative reviews"
   ]
  },
  {
   "cell_type": "code",
   "execution_count": 17,
   "id": "832c292a-2519-47c2-9e08-9735a8bb2854",
   "metadata": {},
   "outputs": [
    {
     "name": "stderr",
     "output_type": "stream",
     "text": [
      "[nltk_data] Downloading package stopwords to\n",
      "[nltk_data]     C:\\Users\\Nikita\\AppData\\Roaming\\nltk_data...\n",
      "[nltk_data]   Package stopwords is already up-to-date!\n"
     ]
    }
   ],
   "source": [
    "vectorizer_bad = embedding(X_good_[0])\n",
    "X_bad_vect = vectorizer_bad.transform(X_bad_[0]).toarray()"
   ]
  },
  {
   "cell_type": "code",
   "execution_count": 21,
   "id": "f3fa1286-0417-4fb1-b774-199c9778f5e9",
   "metadata": {},
   "outputs": [
    {
     "data": {
      "text/plain": [
       "0.086"
      ]
     },
     "execution_count": 21,
     "metadata": {},
     "output_type": "execute_result"
    }
   ],
   "source": [
    "gaus_bad = GaussianNB()\n",
    "gaus_bad.fit(X_bad_vect, y_[0])\n",
    "recom_score(gaus, vectorizer_bad.transform(X_bad_[1][:1000]).toarray(), y_[1][:1000])"
   ]
  },
  {
   "cell_type": "code",
   "execution_count": 23,
   "id": "e94f0205-b72a-426f-91b6-eac417258de1",
   "metadata": {},
   "outputs": [
    {
     "data": {
      "text/plain": [
       "0.33030867069955017"
      ]
     },
     "execution_count": 23,
     "metadata": {},
     "output_type": "execute_result"
    }
   ],
   "source": [
    "forest_bad = RandomForestClassifier(n_estimators = 100, max_depth = 10)\n",
    "forest_bad.fit(X_bad_vect, y_[0])\n",
    "recom_score(forest_bad, vectorizer_bad.transform(X_bad_[1]).toarray(), y_[1])"
   ]
  },
  {
   "cell_type": "code",
   "execution_count": 24,
   "id": "985bb0f0-33b7-44ab-9c7b-da922fe7e394",
   "metadata": {},
   "outputs": [
    {
     "data": {
      "text/plain": [
       "0.31813246471226925"
      ]
     },
     "execution_count": 24,
     "metadata": {},
     "output_type": "execute_result"
    }
   ],
   "source": [
    "sgd_bad = SGDClassifier(loss = \"log_loss\", n_jobs = -1)\n",
    "sgd_bad.fit(X_bad_vect, y_[0])\n",
    "recom_score(sgd_bad, vectorizer_bad.transform(X_bad_[1]).toarray(), y_[1])"
   ]
  },
  {
   "cell_type": "code",
   "execution_count": null,
   "id": "c134e9fe-d40b-4746-bd65-c3db5801b777",
   "metadata": {},
   "outputs": [],
   "source": [
    "#Yex, Random Forest performed slightly better (~1.2%) but that is not significant, because \n",
    "#SGDClassifier has partial_fit and it can perfom better when trained on the whole dataset."
   ]
  },
  {
   "cell_type": "code",
   "execution_count": null,
   "id": "bb36cf7b-e648-4c8b-9e75-a91d8d42f444",
   "metadata": {},
   "outputs": [],
   "source": [
    "#Next I train each model (for good and bad reviews) on as many batches as possible until it starts overfitting"
   ]
  },
  {
   "cell_type": "code",
   "execution_count": 119,
   "id": "553eaee6-5e4f-48b2-bd50-946c1ddab6c9",
   "metadata": {},
   "outputs": [
    {
     "data": {
      "text/html": [
       "<style>#sk-container-id-11 {color: black;background-color: white;}#sk-container-id-11 pre{padding: 0;}#sk-container-id-11 div.sk-toggleable {background-color: white;}#sk-container-id-11 label.sk-toggleable__label {cursor: pointer;display: block;width: 100%;margin-bottom: 0;padding: 0.3em;box-sizing: border-box;text-align: center;}#sk-container-id-11 label.sk-toggleable__label-arrow:before {content: \"▸\";float: left;margin-right: 0.25em;color: #696969;}#sk-container-id-11 label.sk-toggleable__label-arrow:hover:before {color: black;}#sk-container-id-11 div.sk-estimator:hover label.sk-toggleable__label-arrow:before {color: black;}#sk-container-id-11 div.sk-toggleable__content {max-height: 0;max-width: 0;overflow: hidden;text-align: left;background-color: #f0f8ff;}#sk-container-id-11 div.sk-toggleable__content pre {margin: 0.2em;color: black;border-radius: 0.25em;background-color: #f0f8ff;}#sk-container-id-11 input.sk-toggleable__control:checked~div.sk-toggleable__content {max-height: 200px;max-width: 100%;overflow: auto;}#sk-container-id-11 input.sk-toggleable__control:checked~label.sk-toggleable__label-arrow:before {content: \"▾\";}#sk-container-id-11 div.sk-estimator input.sk-toggleable__control:checked~label.sk-toggleable__label {background-color: #d4ebff;}#sk-container-id-11 div.sk-label input.sk-toggleable__control:checked~label.sk-toggleable__label {background-color: #d4ebff;}#sk-container-id-11 input.sk-hidden--visually {border: 0;clip: rect(1px 1px 1px 1px);clip: rect(1px, 1px, 1px, 1px);height: 1px;margin: -1px;overflow: hidden;padding: 0;position: absolute;width: 1px;}#sk-container-id-11 div.sk-estimator {font-family: monospace;background-color: #f0f8ff;border: 1px dotted black;border-radius: 0.25em;box-sizing: border-box;margin-bottom: 0.5em;}#sk-container-id-11 div.sk-estimator:hover {background-color: #d4ebff;}#sk-container-id-11 div.sk-parallel-item::after {content: \"\";width: 100%;border-bottom: 1px solid gray;flex-grow: 1;}#sk-container-id-11 div.sk-label:hover label.sk-toggleable__label {background-color: #d4ebff;}#sk-container-id-11 div.sk-serial::before {content: \"\";position: absolute;border-left: 1px solid gray;box-sizing: border-box;top: 0;bottom: 0;left: 50%;z-index: 0;}#sk-container-id-11 div.sk-serial {display: flex;flex-direction: column;align-items: center;background-color: white;padding-right: 0.2em;padding-left: 0.2em;position: relative;}#sk-container-id-11 div.sk-item {position: relative;z-index: 1;}#sk-container-id-11 div.sk-parallel {display: flex;align-items: stretch;justify-content: center;background-color: white;position: relative;}#sk-container-id-11 div.sk-item::before, #sk-container-id-11 div.sk-parallel-item::before {content: \"\";position: absolute;border-left: 1px solid gray;box-sizing: border-box;top: 0;bottom: 0;left: 50%;z-index: -1;}#sk-container-id-11 div.sk-parallel-item {display: flex;flex-direction: column;z-index: 1;position: relative;background-color: white;}#sk-container-id-11 div.sk-parallel-item:first-child::after {align-self: flex-end;width: 50%;}#sk-container-id-11 div.sk-parallel-item:last-child::after {align-self: flex-start;width: 50%;}#sk-container-id-11 div.sk-parallel-item:only-child::after {width: 0;}#sk-container-id-11 div.sk-dashed-wrapped {border: 1px dashed gray;margin: 0 0.4em 0.5em 0.4em;box-sizing: border-box;padding-bottom: 0.4em;background-color: white;}#sk-container-id-11 div.sk-label label {font-family: monospace;font-weight: bold;display: inline-block;line-height: 1.2em;}#sk-container-id-11 div.sk-label-container {text-align: center;}#sk-container-id-11 div.sk-container {/* jupyter's `normalize.less` sets `[hidden] { display: none; }` but bootstrap.min.css set `[hidden] { display: none !important; }` so we also need the `!important` here to be able to override the default hidden behavior on the sphinx rendered scikit-learn.org. See: https://github.com/scikit-learn/scikit-learn/issues/21755 */display: inline-block !important;position: relative;}#sk-container-id-11 div.sk-text-repr-fallback {display: none;}</style><div id=\"sk-container-id-11\" class=\"sk-top-container\"><div class=\"sk-text-repr-fallback\"><pre>SGDClassifier(loss=&#x27;log_loss&#x27;, n_jobs=-1)</pre><b>In a Jupyter environment, please rerun this cell to show the HTML representation or trust the notebook. <br />On GitHub, the HTML representation is unable to render, please try loading this page with nbviewer.org.</b></div><div class=\"sk-container\" hidden><div class=\"sk-item\"><div class=\"sk-estimator sk-toggleable\"><input class=\"sk-toggleable__control sk-hidden--visually\" id=\"sk-estimator-id-11\" type=\"checkbox\" checked><label for=\"sk-estimator-id-11\" class=\"sk-toggleable__label sk-toggleable__label-arrow\">SGDClassifier</label><div class=\"sk-toggleable__content\"><pre>SGDClassifier(loss=&#x27;log_loss&#x27;, n_jobs=-1)</pre></div></div></div></div></div>"
      ],
      "text/plain": [
       "SGDClassifier(loss='log_loss', n_jobs=-1)"
      ]
     },
     "execution_count": 119,
     "metadata": {},
     "output_type": "execute_result"
    }
   ],
   "source": [
    "clf_good_reviews = SGDClassifier(loss = \"log_loss\", n_jobs = -1)\n",
    "clf_good_reviews.partial_fit(X_good_vect, y_[0], classes = np.unique(y))"
   ]
  },
  {
   "cell_type": "code",
   "execution_count": 120,
   "id": "29257464-5c20-4539-a5c1-646980f16139",
   "metadata": {},
   "outputs": [
    {
     "data": {
      "text/html": [
       "<style>#sk-container-id-12 {color: black;background-color: white;}#sk-container-id-12 pre{padding: 0;}#sk-container-id-12 div.sk-toggleable {background-color: white;}#sk-container-id-12 label.sk-toggleable__label {cursor: pointer;display: block;width: 100%;margin-bottom: 0;padding: 0.3em;box-sizing: border-box;text-align: center;}#sk-container-id-12 label.sk-toggleable__label-arrow:before {content: \"▸\";float: left;margin-right: 0.25em;color: #696969;}#sk-container-id-12 label.sk-toggleable__label-arrow:hover:before {color: black;}#sk-container-id-12 div.sk-estimator:hover label.sk-toggleable__label-arrow:before {color: black;}#sk-container-id-12 div.sk-toggleable__content {max-height: 0;max-width: 0;overflow: hidden;text-align: left;background-color: #f0f8ff;}#sk-container-id-12 div.sk-toggleable__content pre {margin: 0.2em;color: black;border-radius: 0.25em;background-color: #f0f8ff;}#sk-container-id-12 input.sk-toggleable__control:checked~div.sk-toggleable__content {max-height: 200px;max-width: 100%;overflow: auto;}#sk-container-id-12 input.sk-toggleable__control:checked~label.sk-toggleable__label-arrow:before {content: \"▾\";}#sk-container-id-12 div.sk-estimator input.sk-toggleable__control:checked~label.sk-toggleable__label {background-color: #d4ebff;}#sk-container-id-12 div.sk-label input.sk-toggleable__control:checked~label.sk-toggleable__label {background-color: #d4ebff;}#sk-container-id-12 input.sk-hidden--visually {border: 0;clip: rect(1px 1px 1px 1px);clip: rect(1px, 1px, 1px, 1px);height: 1px;margin: -1px;overflow: hidden;padding: 0;position: absolute;width: 1px;}#sk-container-id-12 div.sk-estimator {font-family: monospace;background-color: #f0f8ff;border: 1px dotted black;border-radius: 0.25em;box-sizing: border-box;margin-bottom: 0.5em;}#sk-container-id-12 div.sk-estimator:hover {background-color: #d4ebff;}#sk-container-id-12 div.sk-parallel-item::after {content: \"\";width: 100%;border-bottom: 1px solid gray;flex-grow: 1;}#sk-container-id-12 div.sk-label:hover label.sk-toggleable__label {background-color: #d4ebff;}#sk-container-id-12 div.sk-serial::before {content: \"\";position: absolute;border-left: 1px solid gray;box-sizing: border-box;top: 0;bottom: 0;left: 50%;z-index: 0;}#sk-container-id-12 div.sk-serial {display: flex;flex-direction: column;align-items: center;background-color: white;padding-right: 0.2em;padding-left: 0.2em;position: relative;}#sk-container-id-12 div.sk-item {position: relative;z-index: 1;}#sk-container-id-12 div.sk-parallel {display: flex;align-items: stretch;justify-content: center;background-color: white;position: relative;}#sk-container-id-12 div.sk-item::before, #sk-container-id-12 div.sk-parallel-item::before {content: \"\";position: absolute;border-left: 1px solid gray;box-sizing: border-box;top: 0;bottom: 0;left: 50%;z-index: -1;}#sk-container-id-12 div.sk-parallel-item {display: flex;flex-direction: column;z-index: 1;position: relative;background-color: white;}#sk-container-id-12 div.sk-parallel-item:first-child::after {align-self: flex-end;width: 50%;}#sk-container-id-12 div.sk-parallel-item:last-child::after {align-self: flex-start;width: 50%;}#sk-container-id-12 div.sk-parallel-item:only-child::after {width: 0;}#sk-container-id-12 div.sk-dashed-wrapped {border: 1px dashed gray;margin: 0 0.4em 0.5em 0.4em;box-sizing: border-box;padding-bottom: 0.4em;background-color: white;}#sk-container-id-12 div.sk-label label {font-family: monospace;font-weight: bold;display: inline-block;line-height: 1.2em;}#sk-container-id-12 div.sk-label-container {text-align: center;}#sk-container-id-12 div.sk-container {/* jupyter's `normalize.less` sets `[hidden] { display: none; }` but bootstrap.min.css set `[hidden] { display: none !important; }` so we also need the `!important` here to be able to override the default hidden behavior on the sphinx rendered scikit-learn.org. See: https://github.com/scikit-learn/scikit-learn/issues/21755 */display: inline-block !important;position: relative;}#sk-container-id-12 div.sk-text-repr-fallback {display: none;}</style><div id=\"sk-container-id-12\" class=\"sk-top-container\"><div class=\"sk-text-repr-fallback\"><pre>SGDClassifier(loss=&#x27;log_loss&#x27;, n_jobs=-1)</pre><b>In a Jupyter environment, please rerun this cell to show the HTML representation or trust the notebook. <br />On GitHub, the HTML representation is unable to render, please try loading this page with nbviewer.org.</b></div><div class=\"sk-container\" hidden><div class=\"sk-item\"><div class=\"sk-estimator sk-toggleable\"><input class=\"sk-toggleable__control sk-hidden--visually\" id=\"sk-estimator-id-12\" type=\"checkbox\" checked><label for=\"sk-estimator-id-12\" class=\"sk-toggleable__label sk-toggleable__label-arrow\">SGDClassifier</label><div class=\"sk-toggleable__content\"><pre>SGDClassifier(loss=&#x27;log_loss&#x27;, n_jobs=-1)</pre></div></div></div></div></div>"
      ],
      "text/plain": [
       "SGDClassifier(loss='log_loss', n_jobs=-1)"
      ]
     },
     "execution_count": 120,
     "metadata": {},
     "output_type": "execute_result"
    }
   ],
   "source": [
    "clf_good_reviews.partial_fit(vectorizer.transform(X_good_[1]).toarray(), y_[1])"
   ]
  },
  {
   "cell_type": "code",
   "execution_count": 121,
   "id": "c07b7b43-78c5-4ef9-9462-7afc6cedcc0f",
   "metadata": {},
   "outputs": [
    {
     "name": "stdout",
     "output_type": "stream",
     "text": [
      "batch number 2; score is 0.40538234837909104\n",
      "batch number 3; score is 0.42546921048549713\n",
      "batch number 4; score is 0.4367147510469986\n",
      "batch number 5; score is 0.4506747324336901\n",
      "batch number 6; score is 0.45478517139754926\n",
      "batch number 7; score is 0.46649604467194045\n",
      "batch number 8; score is 0.46905537459283386\n",
      "batch number 9; score is 0.47805180704203504\n",
      "batch number 10; score is 0.4754924771211416\n",
      "batch number 11; score is 0.4795253606328525\n",
      "batch number 12; score is 0.47510469986040016\n",
      "batch number 13; score is 0.4765782534512176\n",
      "batch number 14; score is 0.47161470451372733\n",
      "batch number 15; score is 0.4683573755234993\n",
      "the training is stopped after 15 batches\n"
     ]
    },
    {
     "data": {
      "text/plain": [
       "['clf_good_reviews.pkl']"
      ]
     },
     "execution_count": 121,
     "metadata": {},
     "output_type": "execute_result"
    }
   ],
   "source": [
    "#Once the model performs worse two sequential rounds, the trining is stopped\n",
    "from sklearn import clone\n",
    "previous_score = recom_score(clf_good_reviews, vectorizer.transform(X_good_[1]).toarray(), y_[1])\n",
    "score_now = recom_score(clf_good_reviews, vectorizer.transform(X_good_[2]).toarray(), y_[2])\n",
    "for i in range(2, 38):\n",
    "    clf_good_reviews.partial_fit(vectorizer.transform(X_good_[i]).toarray(), y_[i])\n",
    "    score_b4_previous = previous_score\n",
    "    previous_score = score_now\n",
    "    score_now = recom_score(clf_good_reviews, vectorizer.transform(X_good_[i+1]).toarray(), y_[i+1])\n",
    "    print(\"batch number {number}; score is {score}\".format(number = i, score = score_now))\n",
    "    if (score_now < previous_score) and (previous_score < score_b4_previous):\n",
    "        print(\"the training is stopped after {number} batches\".format(number = i))\n",
    "        break\n",
    "\n",
    "joblib.dump(clf_good_reviews, \"clf_good_reviews.pkl\")"
   ]
  },
  {
   "cell_type": "code",
   "execution_count": 123,
   "id": "d2961825-a083-407d-a487-2322d6db7d84",
   "metadata": {},
   "outputs": [
    {
     "name": "stdout",
     "output_type": "stream",
     "text": [
      "batch number 2; score is 0.30533581510780206\n",
      "batch number 3; score is 0.3146424693655964\n",
      "batch number 4; score is 0.3301535597952536\n",
      "batch number 5; score is 0.3395377695051962\n",
      "batch number 6; score is 0.348146424693656\n",
      "batch number 7; score is 0.34822398014580425\n",
      "batch number 8; score is 0.3610981852024197\n",
      "batch number 9; score is 0.36536373507057546\n",
      "batch number 10; score is 0.3684659531565069\n",
      "batch number 11; score is 0.3724212812160695\n",
      "batch number 12; score is 0.3721886148596246\n",
      "batch number 13; score is 0.37544594384985264\n",
      "batch number 14; score is 0.3757561656584458\n",
      "batch number 15; score is 0.38304637816038467\n",
      "batch number 16; score is 0.3817279354738638\n",
      "batch number 17; score is 0.3709764988753587\n",
      "the training is stopped after 17 batches\n"
     ]
    },
    {
     "data": {
      "text/plain": [
       "['clf_bad_reviews.pkl']"
      ]
     },
     "execution_count": 123,
     "metadata": {},
     "output_type": "execute_result"
    }
   ],
   "source": [
    "#Same for the bad reviews\n",
    "\n",
    "clf_bad_reviews = SGDClassifier(loss = \"log_loss\", n_jobs = -1)\n",
    "clf_bad_reviews.partial_fit(vectorizer_bad.transform(X_bad_[0]).toarray(), y_[0], classes = np.unique(y))\n",
    "clf_bad_reviews.partial_fit(vectorizer_bad.transform(X_bad_[1]).toarray(), y_[1])\n",
    "previous_score = recom_score(clf_bad_reviews, vectorizer_bad.transform(X_bad_[1]).toarray(), y_[1])\n",
    "score_now = recom_score(clf_bad_reviews, vectorizer_bad.transform(X_bad_[2]).toarray(), y_[2])\n",
    "\n",
    "for i in range(2, 38):\n",
    "    clf_bad_reviews.partial_fit(vectorizer_bad.transform(X_bad_[i]).toarray(), y_[i])\n",
    "    score_b4_previous = previous_score\n",
    "    previous_score = score_now\n",
    "    score_now = recom_score(clf_bad_reviews, vectorizer_bad.transform(X_bad_[i+1]).toarray(), y_[i+1])\n",
    "    print(\"batch number {number}; score is {score}\".format(number = i, score = score_now))\n",
    "    if (score_now < previous_score) and (previous_score < score_b4_previous):\n",
    "        print(\"the training is stopped after {number} batches\".format(number = i))\n",
    "        break\n",
    "joblib.dump(clf_bad_reviews, \"clf_bad_reviews.pkl\")"
   ]
  },
  {
   "cell_type": "code",
   "execution_count": 124,
   "id": "ebf22dc5-d84d-4721-acee-f5a033c39b91",
   "metadata": {},
   "outputs": [
    {
     "data": {
      "text/plain": [
       "['vectorizer.pkl']"
      ]
     },
     "execution_count": 124,
     "metadata": {},
     "output_type": "execute_result"
    }
   ],
   "source": [
    "joblib.dump(vectorizer_bad, \"vectorizer_bad.pkl\")\n",
    "joblib.dump(vectorizer, \"vectorizer.pkl\")"
   ]
  },
  {
   "cell_type": "code",
   "execution_count": 144,
   "id": "bb93c611-9e8a-4760-904a-b22e76fae5d4",
   "metadata": {},
   "outputs": [],
   "source": [
    "#getting all the hotels names, their scores, and 3 corresponding comments to save it\n",
    "#and load them on the web page when recommending\n",
    "hotel_scores = dict()\n",
    "hotel_reviews = dict()\n",
    "for i in np.unique(y):\n",
    "    hotel_scores[i] = dataset[dataset.Hotel_Name == i].Average_Score.values[0]\n",
    "    hotel_reviews[i] = [dataset[dataset.Hotel_Name == i].Positive_Review.values[0],\n",
    "                        dataset[dataset.Hotel_Name == i].Positive_Review.values[1],\n",
    "                        dataset[dataset.Hotel_Name == i].Positive_Review.values[2]]\n",
    "\n",
    "f = open(\"hotel_scores.pkl\",\"wb\")\n",
    "pickle.dump(hotel_scores,f)\n",
    "f.close()\n",
    "f = open(\"hotel_reviews.pkl\",\"wb\")\n",
    "pickle.dump(hotel_reviews,f)\n",
    "f.close()"
   ]
  },
  {
   "cell_type": "code",
   "execution_count": 2,
   "id": "47ffb537-aa0c-4267-9b4e-6b76dc10e60a",
   "metadata": {},
   "outputs": [],
   "source": [
    "from joblib import load\n",
    "from typing import Union\n",
    "import numpy as np\n",
    "import pickle\n",
    "\n",
    "\n",
    "with open('hotel_scores.pkl', 'rb') as file:\n",
    "    hotel_scores = pickle.load(file)\n",
    "\n",
    "with open('hotel_reviews.pkl', 'rb') as file:\n",
    "    hotel_reviews = pickle.load(file)\n",
    "\n",
    "clf_bad_loaded = load('clf_bad_reviews.pkl')\n",
    "clf_good_loaded = load('clf_good_reviews.pkl')\n",
    "vectorizer_bad = load('vectorizer_bad.pkl')\n",
    "vectorizer = load('vectorizer.pkl')\n",
    "\n",
    "\n",
    "def recommender(positive: str, negative: Union[str, None] = None):\n",
    "    y_pred = clf_bad_loaded.predict_proba(vectorizer.transform([positive]).toarray())\n",
    "    y_pred_sorted = np.argsort(y_pred)\n",
    "\n",
    "    top_50 = clf_bad_loaded.classes_[y_pred_sorted][0][-50:]\n",
    "    top_50 = top_50.tolist()\n",
    "\n",
    "    if negative:\n",
    "        y_pred = clf_good_loaded.predict_proba(vectorizer_bad.transform([negative]).toarray())\n",
    "        y_pred_sorted = np.argsort(y_pred)\n",
    "\n",
    "        negative_50 = clf_good_loaded.classes_[y_pred_sorted][0][-50:]\n",
    "        negative_50 = negative_50.tolist()\n",
    "\n",
    "        for i in negative_50:\n",
    "            if i in top_50:\n",
    "                top_50.remove(i)\n",
    "\n",
    "    top_50.reverse()\n",
    "    scores = [float(hotel_scores[i]) for i in top_50]\n",
    "    reviews = [hotel_reviews[i] for i in top_50]\n",
    "\n",
    "    return top_50, scores, reviews\n"
   ]
  },
  {
   "cell_type": "code",
   "execution_count": 3,
   "id": "abdcc09a",
   "metadata": {},
   "outputs": [
    {
     "data": {
      "text/plain": [
       "(['Park Plaza Victoria London',\n",
       "  'Club Quarters Hotel Gracechurch',\n",
       "  'The Queens Gate Hotel',\n",
       "  'Radisson Blu Edwardian Vanderbilt',\n",
       "  'Holiday Inn London Bloomsbury',\n",
       "  'De Vere Devonport House',\n",
       "  'Hotel Cavendish',\n",
       "  'Hotel SB Diagonal Zero Barcelona 4 Sup',\n",
       "  'The Student Hotel Amsterdam City',\n",
       "  'BEST WESTERN Maitrise Hotel Maida Vale',\n",
       "  'Hampshire Hotel Rembrandt Square Amsterdam',\n",
       "  'citizenM Tower of London',\n",
       "  'Ramada Apollo Amsterdam Centre',\n",
       "  'Novotel London Wembley',\n",
       "  'Park Grand London Kensington',\n",
       "  'Gainsborough Hotel',\n",
       "  'Hilton London Canary Wharf',\n",
       "  'citizenM London Bankside',\n",
       "  'Ambassadors Bloomsbury',\n",
       "  'Petit Palace Boqueria Garden'],\n",
       " [8.6,\n",
       "  8.2,\n",
       "  8.2,\n",
       "  8.2,\n",
       "  8.2,\n",
       "  8.2,\n",
       "  6.4,\n",
       "  8.2,\n",
       "  8.7,\n",
       "  7.1,\n",
       "  7.8,\n",
       "  9.1,\n",
       "  8.2,\n",
       "  8.9,\n",
       "  8.4,\n",
       "  6.9,\n",
       "  9.0,\n",
       "  9.1,\n",
       "  7.9,\n",
       "  8.5],\n",
       " [[' The bed was so comfortable Great location near the Victoria Coach Station Victoria Station We walked everywhere To catch tours we only had to walk a few blocks Loved our stay at this hotel ',\n",
       "   ' The room was clean spacious and had comfortable furniture soft beds lounge chair The bathtub was large enough for soaking in and all room controls would be done via a touchscreen panel The location is great 4 minutes to Victoria Station for tube or rail 5 minutes from Westminster Abbey 15 minutes to Buckingham Palace ',\n",
       "   ' Great location near good public transport connection Hotel is good and comfortable Nothing special '],\n",
       "  [' Managed to get a much earlier check in than was booked for The hotel has a pretty good location with easy access to tube and Liverpool St station There was free coffee in reception that was pretty good and there was access to a wetherspoons where a full English breakfast can be bought for a about 10 less than the hotel charge ',\n",
       "   ' London hotels are hit and miss at best and this one is no different It s a converted something else building The conversion has been well done though Having a small front entrance on a very busy London street meant arriving at night in the rain by car was very difficult There is NO parking the closest parking lot is quite a hike away and VERY expensive 40GPB per day The shower was a little narrow but the water pressure was very good ',\n",
       "   ' Great location and room at the rear of the hotel meant that we were not aware of the traffic so had a great sleep Sara at reception was very nice too '],\n",
       "  [' Staff were very pleasant and attentive It did have air conditioning which pleased my husband ',\n",
       "   ' Love the location with the many landmarks and museums within walking distance ',\n",
       "   ' We were upgraded to a Club Room by the wonderful staff on Reception after a little mix up and it was lovely The room was spacious clean and the little extras made it feel very special and added to our whole experience The breakfast was really good and beautifully presented The staff were very friendly and helpful Overall a lovely stay Thank you '],\n",
       "  [' The staff was really very nice and helpful ',\n",
       "   ' TV broken room small could open bathroom door more than half way cannot sit on toilet without knees touching wall Squeeze around toilet to get to shower hairdryer lead too short to reach mirror which was tucked in alchove Chaos at breakfast glad to leave Terrible hotel',\n",
       "   ' Perfect location excellent underground connection to Heathrow Nice quiet room first floor facing street Very good breakfast yogurt fresh fruit and berries fruit juice coffee tea croissants eggs bacon beans sausages grilled mushrooms and tomatoes various seeds etc Excellent helpful personnel cheers Eva Lee and Yustyna It was nice to read and relax at bar with free drinks on each evening apparently this offer depends on what room you have extra points for that The museums are near as are several restaurants '],\n",
       "  [' Decent breakfast nice choice of drinks ',\n",
       "   ' Room was clean Requested twin room which was not available Camp bed was provided for second person Initially not happy about it but was comfortable Breakfast menu was good Staff were nice and helpful ',\n",
       "   ' Breakfast'],\n",
       "  [' Good location free wifi friendly helpful staff',\n",
       "   ' We loved the location in Greenwich could not be more centrally located Parking was good too Staff were very friendly and helpfull ',\n",
       "   ' The location the view the friendly staff Good breakfast Great car park '],\n",
       "  [' The hotel is placed excellently as it is surrounded by 3 tube stations on different lines and is easily in walking distance of The British Museum and not far from Leicester Square either if you don t mind a stroll We even walked to King s Cross Station from the hotel The staff were really helpful and allowed us to leave our luggage in reception the day we arrived whilst we went exploring the city and offered to hold our luggage on the day we left as well Breakfast was pleasant and the staff were happy to assist Our room was situated at the back of the property and so there was little noise considering the road the hotel is on Overall a pleasant stay and I would recommend it to others who are going to London and want a central but budget friendly hotel ',\n",
       "   ' This property was not up to any standards I did not like anything in this hotel ',\n",
       "   ' The staff was extremely helpful and accommodating to my requests Excellent '],\n",
       "  [' The hotel it so nice and clean and feeling safe with a good security all the staff are so friendly we are feel warm welcome to stayed on the first minute walks into the hotel ',\n",
       "   ' Nice room great breakfast Shopping centre right across the street Nearby metro station so it s easy to get from the airport to the hotel ',\n",
       "   ' Excellent service help was given with problems Staff were very friendly Would go back to the hotel '],\n",
       "  [' Excellent accomadation facilities ease of everything dining and bar experience and people I would not hesitate in staying there again ',\n",
       "   ' The stuff were very helpful Our room didn t have refrigerator and Tessa was kind enough to upgrade or room with kitchen Thanks Tessa High speed internet and the laundry room which is very convenient Closeness to the metro station ',\n",
       "   ' The entire hotel was having style and it was very clean and modern at the same time I really enjoyed staying there for a few days Perfect location to explore Amsterdam '],\n",
       "  [' The staff were very efficient and friendly and solved our queries quickly Great location for the tube station ',\n",
       "   ' Staff were extremely helpful I like a firm bed so I slept very well The air conditioning cooled quickly and easy to adjust Shower was reasonable size not the tiny booths that you find in some places Breakfast assortment was pretty good and they would accommodate special requests ',\n",
       "   ' The decor was great and the location was fantastic For the price point this hotel was ok It s not up to the usual Best Western standards '],\n",
       "  [' Bathroom superb and the bed very comfortable coffee tea making facilities Location of hotel excellent as near to Rembrandt Square trams stop here every few minutes and no more than 20 minutes walk to the museums train station and most of the sights Plenty of restaurants cafes and shops nearby ',\n",
       "   ' We have stayed here before so used to property the square is vibrant good bars and restaurants everything you need as a base camp to start and finish the day',\n",
       "   ' The Nespresso machine in the room is a really great improvement I love and recommend Flo Brasserie the French restaurant downstairs '],\n",
       "  [' The use of technology was impressive UBS outlets using a tablet to control tv lights and room temp The breakfast which was extra was very good',\n",
       "   ' the rooms are modern and very clean no carpet which is nice if you are allergic the bar on the 7th floor offers one of my favorite views on London Tower Bridge Shard and is very nicely decorated overall the public places are nice and gave me a very comfortable feeling this time I had a room without view but there are rooms with a beautyful view on Tower Bridge try to get one of those if available',\n",
       "   ' location and view From my bedroom window I could see the Tower of London like a watching movie from the front row of the theatre amazing and memorable view of London The hotel lobby was an open space where many people are using as a meeting place It was a different innovative style of running hotel and i enjoyed it '],\n",
       "  [' The room was large enough and practical ',\n",
       "   ' Nice hotel good helpful staff great peaceful location nr bus stop which gets into the centre in only 15 minutes Beautiful scenery along the way The Dutch people most helpful Had a fab time ',\n",
       "   ' Great Hotel Not exactly in the city but a tram station is right outside it and the line goes straight to Dam Square Very clean comfortable rooms If you re lucky and get a corner room you ll get a fabulous view of Amsterdam'],\n",
       "  [' Easy to get tube very close there s a lift to the left of the steps if you can t face the climb Breakfast was good though I would have liked poached eggs or fried or boiled Hate scrambled tasteless Room was clean comfortable ',\n",
       "   ' Friendly and accommodating staff Proximity to Wembley stadium Onsite parking ',\n",
       "   ' Location staff and cleanliness are all good Good value of room in London '],\n",
       "  [' This was our first trip to London We could not have been happier with the location The breakfast buffet was great and was an easy convenient way to start each day Though the room was rather small similar to NYC and par for the course in London the bed was comfortable room was clean and bathroom was nice The hotel is walking distance 1 2 minutes to Earl s court stop We walked all over but one of our favorite places was Holland park which was a 10 minute walk from the hotel The staff was really helpful and even held are bags for us after checkout until we left for the airport We would definitely stay in this hotel location again ',\n",
       "   ' The staff reception we re awosom especially Cami veneza and hussain they we re super in dealing with me and my family and tottaly happy from what I have seen from them',\n",
       "   ' Excellent location 5 minutes walk from Earl s Court Underground station Very friendly and helpful staff rooms are not that big but still very comfortable '],\n",
       "  [' excellent bed linen',\n",
       "   ' Location of the hotel was excellent Staff were friendly ',\n",
       "   ' Brilliant location Friendly helpful staff Great full English breakfast '],\n",
       "  [' Everything',\n",
       "   ' bed was great the room was really clean and the breakfast excellent',\n",
       "   ' The staff were amazing the room was spacious and comfortable and the food was great My three children and I had the best stay '],\n",
       "  ['No Positive',\n",
       "   ' What an amazing and unique hotel A short cab ride or 15 minute walk from Waterloo station and close to nearby bars and restaurants The room is comfortable and quirky and the hotel staff are super friendly The bar are and foyer feel cozy and the interior design is amazing I loved it so much I booked CitizenM in Amsterdam for my next trip ',\n",
       "   ' Big comfy bed great cafe bar with 24 snacks available Excellent location Check in was easy and liked choosing room location '],\n",
       "  [' Our room was at the back as we asked for a quiet room so no view good breakfast plenty of choice Nice coffee about 8 mins walk from Kings Cross',\n",
       "   ' The location was just right staff very professional and clean room ',\n",
       "   ' On arrival was given a free room upgrade very close to Euston Station Great value for money didn t eat at the hotel so cannot comment on on food Staff were really friendly and willing to help sevice with a smile '],\n",
       "  [' The breakfast buffet was TREMENDOUS the rooms were very nice and spacious with GREAT showers ',\n",
       "   ' The entrance to the hotel was very nice and the reception staff were helpful The shower was nice a big That s about it ',\n",
       "   ' The bed was very firm but I liked it like that and they were a good size They were also separated into two beds ']])"
      ]
     },
     "execution_count": 3,
     "metadata": {},
     "output_type": "execute_result"
    }
   ],
   "source": [
    "recommender(\"Clean bathroom, beach, large bed\", \"dogs, smell, loud\")"
   ]
  },
  {
   "cell_type": "code",
   "execution_count": null,
   "id": "a86fb880",
   "metadata": {},
   "outputs": [],
   "source": []
  }
 ],
 "metadata": {
  "kernelspec": {
   "display_name": "Python 3 (ipykernel)",
   "language": "python",
   "name": "python3"
  },
  "language_info": {
   "codemirror_mode": {
    "name": "ipython",
    "version": 3
   },
   "file_extension": ".py",
   "mimetype": "text/x-python",
   "name": "python",
   "nbconvert_exporter": "python",
   "pygments_lexer": "ipython3",
   "version": "3.9.13"
  }
 },
 "nbformat": 4,
 "nbformat_minor": 5
}
